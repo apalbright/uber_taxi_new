{
 "cells": [
  {
   "cell_type": "markdown",
   "metadata": {},
   "source": [
    "```Hi Alex, Jupyter Markdown and formats are similar to but different from R Markdown -- you'll quickly get the hang of it by viewing the \"Help\" docs from the above menu.  \n",
    "\n",
    "Mostly, there's two different types of 'cells' -- code and markdown.   And you select what type of cell you want -- note, keyboard shortcuts are your very good friend for Jupyter (as well as all of life).\n",
    "\n",
    "What I did was to paste your entire *.rmd file here, and then went through and began to slice it up into different cells. I isolated the code, or much of it, into 'markdown' cells, and the rest into 'code' cells.  Now, what remains is to go through each cell and try formatting the markdown (much of that is already working, since md is md) and then try running the R (this has some hiccups due to dependencies, which just need to be loaded ).  You can delete this and all my comments and let me know if you have any blockers.\n",
    "\n",
    "Note that there's a few custom apps for rmd to ipynb conversion available on github, however, since a 'notebook' file is really just a bunch of formatting (plus separate R code) my thought its its faster and easier to just manually make the conversion and then going cell by cell to make sure everything works.  Eventually worth trying out perhaps an rmd to ipynb converter if this is a common or bulk-runnable task (i.e for 50 rmd notebooks). \n",
    "\n",
    "d\n",
    "\n",
    "```\n",
    "\n",
    "---\n",
    "title: \"The Rise of the New Kind of Cabbie: A Comparison of Uber and Taxi Drivers\"\n",
    "output: html_notebook\n",
    "author: Alex Albright\n",
    "date: 7-27-17\n",
    "---\n",
    "# Comparing Uber and Taxi Drivers \n",
    "This notebook generates updated visuals for [my blog post \"The Rise of the New Kind of Cabbie: A Comparison of Uber and Taxi Drivers.\"](https://thelittledataset.com/2015/03/30/the-rise-of-the-new-kind-of-cabbie-a-comparison-of-uber-and-taxi-drivers/) \n",
    "\n",
    "# Motivation\n",
    "It is undoubtedly obvious that compared to traditional cab service drivers, Uber drivers are *younger, whiter, more female, and more part-time.* Though I have continuously noted these distinctions since growing accustomed to Uber over recent years, I did not think that there was data for illustrating these distinctions quantitatively. However, I recently came across the paper [â€œAn Analysis of the Labor Market for Uberâ€™s Driver-Partners in the United States,â€ written by (Economists!) Jonathan Hall and Alan Krueger.](https://irs.princeton.edu/sites/irs/files/An%20Analysis%20of%20the%20Labor%20Market%20for%20Uber%E2%80%99s%20Driver-Partners%20in%20the%20United%20States%20587.pdf) The paper supplies tables that summarize characteristics of both Uber drivers and their conventional taxi driver/chauffeur counterparts. This allows for an exercise in visually depicting the differences between the two opposing sets of driversâ€”allowing us to then accurately define the characteristics of a new kind of cabbie.  \n",
    "\n",
    "## 1. Age range "
   ]
  },
  {
   "cell_type": "markdown",
   "metadata": {},
   "source": [
    "## Load libraries"
   ]
  },
  {
   "cell_type": "code",
   "execution_count": 8,
   "metadata": {},
   "outputs": [
    {
     "name": "stderr",
     "output_type": "stream",
     "text": [
      "Updating HTML index of packages in '.Library'\n",
      "Making 'packages.html' ... done\n",
      "Updating HTML index of packages in '.Library'\n",
      "Making 'packages.html' ... done\n",
      "Updating HTML index of packages in '.Library'\n",
      "Making 'packages.html' ... done\n"
     ]
    }
   ],
   "source": [
    "# Install required packages\n",
    "# Alex: Note that you'll need for now to add this extra step of installing packages.  We can list the required packages and make a separate \"Dependecy\" pack  Currently using the \"NLP\" dependency pack, which includes the R kernel but doesn't have all of these libraries.\n",
    "# Note that this might take a bit of experimenting. \n",
    "\n",
    "install.packages('ggthemes', dependencies = FALSE)\n",
    "install.packages('reshape', dependencies = FALSE)\n",
    "install.packages('gridExtra', dependencies = FALSE)"
   ]
  },
  {
   "cell_type": "code",
   "execution_count": 9,
   "metadata": {},
   "outputs": [
    {
     "name": "stderr",
     "output_type": "stream",
     "text": [
      "\n",
      "Attaching package: 'reshape'\n",
      "\n",
      "The following objects are masked from 'package:plyr':\n",
      "\n",
      "    rename, round_any\n",
      "\n"
     ]
    }
   ],
   "source": [
    "# Load libraries\n",
    "library(ggplot2);library(ggthemes);library(plyr);library(reshape);library(grid);library(scales);library(RColorBrewer);library(gridExtra)"
   ]
  },
  {
   "cell_type": "markdown",
   "metadata": {},
   "source": [
    "### Create my custom theme:"
   ]
  },
  {
   "cell_type": "code",
   "execution_count": 10,
   "metadata": {
    "collapsed": true
   },
   "outputs": [],
   "source": [
    "my_theme <- function() {\n",
    "\n",
    "  # Define colors for the chart\n",
    "  palette <- brewer.pal(\"Greys\", n=9)\n",
    "  color.background = palette[2]\n",
    "  color.grid.major = palette[4]\n",
    "  color.panel = palette[3]\n",
    "  color.axis.text = palette[9]\n",
    "  color.axis.title = palette[9]\n",
    "  color.title = palette[9]\n",
    "\n",
    "  # Create basic construction of chart\n",
    "  theme_bw(base_size=9, base_family=\"Palatino\") + \n",
    "\n",
    "  # Set the entire chart region to a light gray color\n",
    "  theme(panel.background=element_rect(fill=color.panel, color=color.background)) +\n",
    "  theme(plot.background=element_rect(fill=color.background, color=color.background)) +\n",
    "  theme(panel.border=element_rect(color=color.background)) +\n",
    "\n",
    "  # Format grid\n",
    "  theme(panel.grid.major=element_line(color=color.grid.major,size=.25)) +\n",
    "  theme(panel.grid.minor=element_blank()) +\n",
    "  theme(axis.ticks=element_blank()) +\n",
    "\n",
    "  # Format legend\n",
    "  theme(legend.position=\"right\") +\n",
    "  theme(legend.background = element_rect(fill=color.panel)) +\n",
    "  theme(legend.text = element_text(size=8,color=color.axis.title)) +\n",
    "  theme(legend.title=element_blank())+\n",
    "\n",
    "  # Format title and axes labels these and tick marks\n",
    "  theme(plot.title=element_text(color=color.title, size=15, vjust=0.5, hjust=0, face=\"bold\")) +\n",
    "  theme(axis.text.x=element_text(size=8,color=color.axis.text)) +\n",
    "  theme(axis.text.y=element_text(size=8,color=color.axis.text)) +\n",
    "  theme(axis.title.x=element_text(size=0,color=color.axis.title, vjust=-1, face=\"italic\")) +\n",
    "  theme(axis.title.y=element_text(size=0,color=color.axis.title, vjust=1.8, face=\"italic\")) +\n",
    "\n",
    "  # Plot margins\n",
    "  theme(plot.margin = unit(c(0, 0, 0, 0), \"cm\"))\n",
    "}"
   ]
  },
  {
   "cell_type": "markdown",
   "metadata": {},
   "source": [
    "Let's load the data for ages and plot it:"
   ]
  },
  {
   "cell_type": "code",
   "execution_count": 11,
   "metadata": {},
   "outputs": [
    {
     "data": {
      "image/png": "[encoded data removed]",
      "text/plain": [
       "plot without title"
      ]
     },
     "metadata": {},
     "output_type": "display_data"
    }
   ],
   "source": [
    "\n",
    "age <- read.csv('raw_data/age.csv')\n",
    "\n",
    "newage<-melt(age, id=c(\"Attribute\"))\n",
    "\n",
    "#set colors for uber and taxi driver bars\n",
    "pal2 <- c(\"#636363\", \"#ffff00\")\n",
    "\n",
    "#plot graph\n",
    "age<-ggplot(data=newage, aes(x=Attribute, y=value, fill=variable))+ \n",
    "\tgeom_bar(stat=\"identity\", position=position_dodge(), colour=\"black\")+\n",
    "\tscale_fill_manual(values = pal2) +\n",
    "\ttheme(legend.key = element_rect(colour = \"black\"))+\n",
    "\tmy_theme()+\n",
    "\tguides(fill = guide_legend(override.aes = list(colour = NULL)))+\n",
    "\tscale_y_continuous(breaks=seq(0,40,5))+\n",
    "\tggtitle(\"Ubers vs. Taxis: Age Range\", subtitle=\"Percentage (%) of drivers in a given age range\") \n",
    "\n",
    "#add source and credit \n",
    "grid.arrange(age, ncol=1, nrow=1, bottom=textGrob(\"Data source: Hall and Krueger (2015) | Visualization via Alex Albright (thelittledataset.com)\", hjust=.21, gp=gpar(fontsize=7, font=3, fontfamily=\"Palatino\")))\n"
   ]
  },
  {
   "cell_type": "code",
   "execution_count": null,
   "metadata": {
    "collapsed": true
   },
   "outputs": [],
   "source": [
    "Save to pdf\n",
    "```{r}"
   ]
  },
  {
   "cell_type": "code",
   "execution_count": null,
   "metadata": {
    "collapsed": true
   },
   "outputs": [],
   "source": [
    "#save to pdf\n",
    "pdf(\"age.pdf\", width = 6, height = 4) # Open a new pdf file\n",
    "grid.arrange(age, ncol=1, nrow=1, bottom=textGrob(\"Data source: Hall and Krueger (2015) | Visualization via Alex Albright (thelittledataset.com)\", hjust=.21, gp=gpar(fontsize=7, font=3, fontfamily=\"Palatino\")))\n",
    "dev.off()\n",
    "```\n",
    "## 2. Hours worked\n",
    "Load data and plot:"
   ]
  },
  {
   "cell_type": "code",
   "execution_count": null,
   "metadata": {
    "collapsed": true
   },
   "outputs": [],
   "source": [
    "```{r, message=FALSE, warning=FALSE}\n",
    "h <- read.csv('raw_data/hours.csv')\n",
    "\n",
    "hour<-melt(h, id=c(\"Attribute\"))\n",
    "\n",
    "#set colors for uber and driver driver bars\n",
    "pal2 <- c(\"#636363\", \"#ffff00\")\n",
    "\n",
    "#define graph\n",
    "hours<-ggplot(data=hour, aes(x=Attribute, y=value, fill=variable))+ \n",
    "\tgeom_bar(stat=\"identity\", position=position_dodge(), colour=\"black\")+\n",
    "\tscale_fill_manual(values = pal2, guide_legend(colour=\"black\")) +\n",
    "\ttheme(legend.key = element_rect(colour = \"black\"))+\n",
    "\tmy_theme()+\n",
    "\tguides(fill = guide_legend(override.aes = list(colour = NULL)))+\n",
    "  ggtitle(\"Ubers vs. Taxis: Hours Worked\", subtitle = \"Percentage (%) of drivers working a given range of hours/week\")+\n",
    "  scale_x_discrete(labels=c(\"1-15\", \"16-34\", \"35-49\", \"50+\"))\n",
    "\n",
    "#add source and credit    \n",
    "grid.arrange(hours, ncol=1, nrow=1, bottom=textGrob(\"Data source: Hall and Krueger (2015) | Visualization via Alex Albright (thelittledataset.com)\", hjust=.21, gp=gpar(fontsize=7, font=3, fontfamily=\"Palatino\")))\n",
    "```"
   ]
  },
  {
   "cell_type": "code",
   "execution_count": null,
   "metadata": {
    "collapsed": true
   },
   "outputs": [],
   "source": [
    "Save to pdf"
   ]
  },
  {
   "cell_type": "code",
   "execution_count": null,
   "metadata": {
    "collapsed": true
   },
   "outputs": [],
   "source": [
    "```{r}\n",
    "#save to pdf\n",
    "pdf(\"hours.pdf\", width = 6, height = 4) # Open a new pdf file\n",
    "grid.arrange(hours, ncol=1, nrow=1, bottom=textGrob(\"Data source: Hall and Krueger (2015) | Visualization via Alex Albright (thelittledataset.com)\", hjust=.21, gp=gpar(fontsize=7, font=3, fontfamily=\"Palatino\")))\n",
    "dev.off()\n",
    "```"
   ]
  },
  {
   "cell_type": "code",
   "execution_count": null,
   "metadata": {
    "collapsed": true
   },
   "outputs": [],
   "source": [
    "## 3. Education level\n",
    "Load data and plot:"
   ]
  },
  {
   "cell_type": "code",
   "execution_count": null,
   "metadata": {
    "collapsed": true
   },
   "outputs": [],
   "source": [
    "```{r}\n",
    "ed <- read.csv('raw_data/education.csv')\n",
    "newed<-melt(ed, id=c(\"Attribute\"))\n",
    "\n",
    "#set colors for uber and taxi driver bars\n",
    "pal2 <- c(\"#636363\", \"#ffff00\")\n",
    "\n",
    "#plot graph\n",
    "education<-ggplot(data=newed, aes(x=Attribute, y=value, fill=variable))+ \n",
    "\tgeom_bar(stat=\"identity\", position=position_dodge(), colour=\"black\")+\n",
    "\tscale_fill_manual(values = pal2, guide_legend(colour=\"black\")) +\n",
    "\ttheme(legend.key = element_rect(colour = \"black\"))+\n",
    "\tmy_theme()+ \n",
    "  theme(axis.text.x=element_text(size=6.5)) +\n",
    "\tguides(fill = guide_legend(override.aes = list(colour = NULL)))+\n",
    "  scale_x_discrete(labels=c(\"Less than High School\", \"High School\", \"Some College/Associate's\", \"College Degree\",\"Postgraduate Degree\"))+\n",
    "\tggtitle(\"Ubers vs. Taxis: Education Level\", subtitle=\"Percentage (%) of drivers by highest level of education\") \n",
    "\n",
    "#add source and credit    \n",
    "grid.arrange(education, ncol=1, nrow=1, bottom=textGrob(\"Data source: Hall and Krueger (2015) | Visualization via Alex Albright (thelittledataset.com)\", hjust=.21, gp=gpar(fontsize=7, font=3, fontfamily=\"Palatino\")))\n",
    "```\n",
    "Save to pdf"
   ]
  },
  {
   "cell_type": "code",
   "execution_count": null,
   "metadata": {
    "collapsed": true
   },
   "outputs": [],
   "source": [
    "```{r}\n",
    "#save to pdf\n",
    "pdf(\"educ.pdf\", width = 6, height = 4) # Open a new pdf file\n",
    "grid.arrange(education, ncol=1, nrow=1, bottom=textGrob(\"Data source: Hall and Krueger (2015) | Visualization via Alex Albright (thelittledataset.com)\", hjust=.21, gp=gpar(fontsize=7, font=3, fontfamily=\"Palatino\")))\n",
    "dev.off()\n",
    "```"
   ]
  },
  {
   "cell_type": "code",
   "execution_count": null,
   "metadata": {
    "collapsed": true
   },
   "outputs": [],
   "source": [
    "## 4. Earnings by city\n",
    "Load data and plot:"
   ]
  },
  {
   "cell_type": "code",
   "execution_count": null,
   "metadata": {
    "collapsed": true
   },
   "outputs": [],
   "source": [
    "```{r}\n",
    "#load data\n",
    "ea <- read.csv('raw_data/earning.csv')\n",
    "\n",
    "earn<-melt(ea, id=c(\"Attribute\"))\n",
    "\n",
    "#set colors for uber and taxi driver bars\n",
    "pal2 <- c(\"#636363\", \"#ffff00\")\n",
    "\n",
    "#plot graph\n",
    "ear<-ggplot(data=earn, aes(x=Attribute, y=value, fill=variable))+ \n",
    "\tgeom_bar(stat=\"identity\", position=position_dodge(), colour=\"black\")+\n",
    "\tscale_fill_manual(values = pal2, guide_legend(colour=\"black\")) +\n",
    "\ttheme(legend.key = element_rect(colour = \"black\"))+\n",
    "\tmy_theme()+\n",
    "\tguides(fill = guide_legend(override.aes = list(colour = NULL)))+\n",
    "\tggtitle(\"Ubers vs. Taxis: Earnings by City\", subtitle=\"Median earnings ($) per hour by city\") \n",
    "\n",
    "#add source and credit    \n",
    "grid.arrange(ear, ncol=1, nrow=1, bottom=textGrob(\"Data source: Hall and Krueger (2015) | Visualization via Alex Albright (thelittledataset.com)\", hjust=.21, gp=gpar(fontsize=7, font=3, fontfamily=\"Palatino\")))"
   ]
  },
  {
   "cell_type": "code",
   "execution_count": null,
   "metadata": {
    "collapsed": true
   },
   "outputs": [],
   "source": [
    "```\n",
    "Save to pdf"
   ]
  },
  {
   "cell_type": "code",
   "execution_count": null,
   "metadata": {
    "collapsed": true
   },
   "outputs": [],
   "source": [
    "```{r}\n",
    "#save to pdf\n",
    "pdf(\"earning_by_city.pdf\", width = 6, height = 4) # Open a new pdf file\n",
    "grid.arrange(ear, ncol=1, nrow=1, bottom=textGrob(\"Data source: Hall and Krueger (2015) | Visualization via Alex Albright (thelittledataset.com)\", hjust=.21, gp=gpar(fontsize=7, font=3, fontfamily=\"Palatino\")))\n",
    "dev.off()\n",
    "```"
   ]
  },
  {
   "cell_type": "code",
   "execution_count": null,
   "metadata": {
    "collapsed": true
   },
   "outputs": [],
   "source": [
    "## 5. Hours worked by city\n",
    "Load data and plot:"
   ]
  },
  {
   "cell_type": "code",
   "execution_count": null,
   "metadata": {
    "collapsed": true
   },
   "outputs": [],
   "source": [
    "```{r}\n",
    "ed <- read.csv('raw_data/citiesuberx.csv')\n",
    "\n",
    "cit<-melt(ed, id=c(\"City\"))\n",
    "\n",
    "#plot graph\n",
    "city<-ggplot(data = cit, aes(x = City, y=value, fill = variable)) + \n",
    "\tgeom_bar(stat=\"identity\", colour=\"black\")+ coord_flip()+ \n",
    "\ttheme(legend.key = element_rect(colour = \"black\"))+\n",
    "\tmy_theme()+\n",
    "\tguides(fill = guide_legend(override.aes = list(colour = NULL)))+\n",
    "\tscale_fill_brewer(palette=\"GnBu\", name =\"Hours/Week\", breaks=c(\"X1.to.15\", \"X16.to.34\",\"X35.to.49\",\"X50.or.more\"), labels=c(\"1-15\", \"16-34\",\"35-49\",\"50+\"))+\n",
    "\tggtitle(\"Uber: Hours Worked by City\", subtitle=\"Percentage (%) of drivers working a given range of hours/week\") \n",
    "\n",
    "#add source and credit    \n",
    "grid.arrange(city, ncol=1, nrow=1, bottom=textGrob(\"Data source: Hall and Krueger (2015) | Visualization via Alex Albright (thelittledataset.com)\", hjust=.21, gp=gpar(fontsize=7, font=3, fontfamily=\"Palatino\")))\n",
    "```\n",
    "Save to pdf"
   ]
  },
  {
   "cell_type": "code",
   "execution_count": null,
   "metadata": {
    "collapsed": true
   },
   "outputs": [],
   "source": [
    "```{r}\n",
    "#save to pdf\n",
    "pdf(\"city.pdf\", width = 6, height = 4) # Open a new pdf file\n",
    "grid.arrange(city, ncol=1, nrow=1, bottom=textGrob(\"Data source: Hall and Krueger (2015) | Visualization via Alex Albright (thelittledataset.com)\", hjust=.21, gp=gpar(fontsize=7, font=3, fontfamily=\"Palatino\")))\n",
    "dev.off()\n",
    "```\n",
    "## 6. Race\n",
    "Load data and plot:\n",
    "```{r}\n",
    "race <- read.csv('raw_data/race.csv')\n",
    "\n",
    "newrace<-melt(race, id=c(\"Attribute\"))\n",
    "\n",
    "#set colors for uber and taxi driver bars\n",
    "pal2 <- c(\"#636363\", \"#ffff00\")\n",
    "\n",
    "#plot graph\n",
    "race<-ggplot(data=newrace, aes(x=Attribute, y=value, fill=variable))+ \n",
    "\tgeom_bar(stat=\"identity\", position=position_dodge(), colour=\"black\")+\n",
    "\tscale_fill_manual(values = pal2, guide_legend(colour=\"black\")) +\n",
    "\ttheme(legend.key = element_rect(colour = \"black\"))+\n",
    "\tmy_theme()+\n",
    "  theme(axis.text.x=element_text(size=6.5)) +\n",
    "\tguides(fill = guide_legend(override.aes = list(colour = NULL)))+\n",
    "\tggtitle(\"Ubers vs. Taxis: Race\", subtitle=\"Percentage (%) of drivers of a given race\")\n",
    "\n",
    "#add source and credit    \n",
    "grid.arrange(race, ncol=1, nrow=1, bottom=textGrob(\"Data source: Hall and Krueger (2015) | Visualization via Alex Albright (thelittledataset.com)\", hjust=.21, gp=gpar(fontsize=7, font=3, fontfamily=\"Palatino\")))\n",
    "```\n",
    "Save to pdf"
   ]
  },
  {
   "cell_type": "code",
   "execution_count": null,
   "metadata": {
    "collapsed": true
   },
   "outputs": [],
   "source": [
    "```{r}\n",
    "#save to pdf\n",
    "pdf(\"race.pdf\", width = 6, height = 4) # Open a new pdf file\n",
    "grid.arrange(race, ncol=1, nrow=1, bottom=textGrob(\"Data source: Hall and Krueger (2015) | Visualization via Alex Albright (thelittledataset.com)\", hjust=.21, gp=gpar(fontsize=7, font=3, fontfamily=\"Palatino\")))\n",
    "dev.off()\n",
    "```\n",
    "## 7. Gender\n",
    "Load data and plot:\n",
    "```{r, message=FALSE, warning=FALSE}\n",
    "#load numbers--since it's only three percentages it's not worth loading in the gender.csv file \n",
    "DF <- data.frame(type = c(\"Ubers\",\"Taxis\",\"NYC Taxis\"), per = c(13.8,8,1)) \n",
    " \n",
    "#place percentages in the middle of the bars\n",
    " DF <- ddply(DF, .(type), transform, pos = cumsum(per) - (0.5 * per))\n",
    " \n",
    "#plot graph \n",
    "fem<-ggplot(DF, aes(x = type, y = per)) + \n",
    "\tmy_theme()+\n",
    "\tgeom_bar(stat = \"identity\", fill = \"firebrick\", colour=\"black\") + \n",
    "\tlabs(title= \"Ubers vs. Taxis: Gender \\nPercentage of female drivers\", x=\"\", y=\"\")+\n",
    "\tggtitle(\"Ubers vs. Taxis: Gender\", subtitle=\"Percentage of female drivers\") +\n",
    "  theme(plot.margin = unit(c(0, 1, 0, 0), \"cm\"))+\n",
    "  geom_text(aes(label = c(\"1%\", \"8%\",\"13.8%\"), y = pos), size = 5, family=\"Palatino\", face=\"bold\")\n",
    "\n",
    "#add source and credit    \n",
    "grid.arrange(fem, ncol=1, nrow=1, bottom=textGrob(\"Data source: Hall and Krueger (2015) | Visualization via Alex Albright (thelittledataset.com)\", hjust=.21, gp=gpar(fontsize=7, font=3, fontfamily=\"Palatino\")))\n",
    "```\n",
    "Save to pdf"
   ]
  },
  {
   "cell_type": "code",
   "execution_count": null,
   "metadata": {
    "collapsed": true
   },
   "outputs": [],
   "source": [
    "```{r}\n",
    "#save to pdf\n",
    "pdf(\"gender.pdf\", width = 6, height = 4) # Open a new pdf file\n",
    "grid.arrange(fem, ncol=1, nrow=1, bottom=textGrob(\"Data source: Hall and Krueger (2015) | Visualization via Alex Albright (thelittledataset.com)\", hjust=.21, gp=gpar(fontsize=7, font=3, fontfamily=\"Palatino\")))\n",
    "dev.off()\n",
    "```\n",
    "We have now finished plotting/saving all the graphs in the article.\n",
    "\n",
    "# The End"
   ]
  }
 ],
 "metadata": {
  "kernelspec": {
   "display_name": "R",
   "language": "R",
   "name": "ir"
  },
  "language_info": {
   "codemirror_mode": "r",
   "file_extension": ".r",
   "mimetype": "text/x-r-source",
   "name": "R",
   "pygments_lexer": "r",
   "version": "3.3.2"
  }
 },
 "nbformat": 4,
 "nbformat_minor": 2
}
